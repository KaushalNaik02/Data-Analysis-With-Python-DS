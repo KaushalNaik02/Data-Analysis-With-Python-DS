{
 "cells": [
  {
   "cell_type": "markdown",
   "metadata": {},
   "source": [
    "## Data Analysis With Python"
   ]
  },
  {
   "cell_type": "markdown",
   "metadata": {},
   "source": [
    "### Working With Pandas Basics"
   ]
  },
  {
   "cell_type": "code",
   "execution_count": 9,
   "metadata": {},
   "outputs": [
    {
     "name": "stdout",
     "output_type": "stream",
     "text": [
      "Hello Pandas\n"
     ]
    }
   ],
   "source": [
    "print(\"Hello Pandas\")"
   ]
  },
  {
   "cell_type": "code",
   "execution_count": 10,
   "metadata": {},
   "outputs": [
    {
     "name": "stdout",
     "output_type": "stream",
     "text": [
      "Hello\n"
     ]
    }
   ],
   "source": [
    "import pandas as pd\n",
    "print(\"Hello\")"
   ]
  },
  {
   "cell_type": "markdown",
   "metadata": {},
   "source": [
    "### Series"
   ]
  },
  {
   "cell_type": "code",
   "execution_count": 11,
   "metadata": {},
   "outputs": [
    {
     "name": "stdout",
     "output_type": "stream",
     "text": [
      "0    1\n",
      "1    2\n",
      "2    3\n",
      "3    4\n",
      "4    5\n",
      "dtype: int64\n"
     ]
    }
   ],
   "source": [
    "# series is an one dimentional array \n",
    "Data = [1,2,3,4,5]\n",
    "Series = pd.Series(Data)\n",
    "print(Series)"
   ]
  },
  {
   "cell_type": "code",
   "execution_count": 12,
   "metadata": {},
   "outputs": [
    {
     "name": "stdout",
     "output_type": "stream",
     "text": [
      "a    1\n",
      "b    2\n",
      "c    3\n",
      "d    4\n",
      "dtype: int64\n"
     ]
    }
   ],
   "source": [
    "# series from the dictionary\n",
    "data_dict = {'a':1,'b':2,'c':3,'d':4}\n",
    "dict_series = pd.Series(data_dict)\n",
    "print(dict_series)"
   ]
  },
  {
   "cell_type": "code",
   "execution_count": 21,
   "metadata": {},
   "outputs": [
    {
     "name": "stdout",
     "output_type": "stream",
     "text": [
      "a       1\n",
      "100     2\n",
      "c       3\n",
      "d1d3    4\n",
      "dtype: int64\n"
     ]
    }
   ],
   "source": [
    "# Trying to Insert an index value as per user choice\n",
    "data_dict = {'a':1,'100':2,'c':3,'d1d3':4}\n",
    "dict_series = pd.Series(data_dict)\n",
    "print(dict_series)"
   ]
  },
  {
   "cell_type": "code",
   "execution_count": 19,
   "metadata": {},
   "outputs": [
    {
     "name": "stdout",
     "output_type": "stream",
     "text": [
      "1      one\n",
      "2      two\n",
      "3    three\n",
      "4     four\n",
      "5     five\n",
      "dtype: object\n"
     ]
    }
   ],
   "source": [
    "# Creating Data and Index Manually \n",
    "M_Data = ['one','two','three','four','five']\n",
    "M_index = range(1,6)         #[1,2,3,4,5]\n",
    "M_series = pd.Series(M_Data,index=M_index)\n",
    "print(M_series)"
   ]
  },
  {
   "cell_type": "markdown",
   "metadata": {},
   "source": [
    "### DataFrame"
   ]
  },
  {
   "cell_type": "code",
   "execution_count": 27,
   "metadata": {},
   "outputs": [
    {
     "name": "stdout",
     "output_type": "stream",
     "text": [
      "      name  age    city\n",
      "0  kaushal   21  mumbai\n",
      "1    rohan   34    pune\n",
      "2    omkar   55   delhi\n",
      "        name    city\n",
      "age                 \n",
      "21   kaushal  mumbai\n",
      "34     rohan    pune\n",
      "55     omkar   delhi\n"
     ]
    }
   ],
   "source": [
    "# DataFrame is an multidementional array\n",
    "data = {\n",
    "    'name': ['kaushal','rohan','omkar'],\n",
    "    'age' : [21,34,55],\n",
    "    'city' : ['mumbai','pune','delhi']\n",
    "}\n",
    "Dataframe = pd.DataFrame(data)\n",
    "print(Dataframe)\n",
    "\n",
    "# Setting the index manually from the\n",
    "Dataframe.set_index('age', inplace=True)        \n",
    "print(Dataframe)"
   ]
  },
  {
   "cell_type": "code",
   "execution_count": null,
   "metadata": {},
   "outputs": [],
   "source": []
  }
 ],
 "metadata": {
  "kernelspec": {
   "display_name": "Python 3",
   "language": "python",
   "name": "python3"
  },
  "language_info": {
   "codemirror_mode": {
    "name": "ipython",
    "version": 3
   },
   "file_extension": ".py",
   "mimetype": "text/x-python",
   "name": "python",
   "nbconvert_exporter": "python",
   "pygments_lexer": "ipython3",
   "version": "3.12.0"
  }
 },
 "nbformat": 4,
 "nbformat_minor": 2
}
